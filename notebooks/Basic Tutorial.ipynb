{
 "cells": [
  {
   "cell_type": "markdown",
   "metadata": {},
   "source": [
    "# Tutorial - Green Urban Scenarious\n",
    "A demo of a minimal flow of GUS process.\n",
    "\n",
    "For more advanced use cases, please see upcoming article. For more structured experiment and scenario analyis plese see model sepcification and code documentation within docs/ folder. "
   ]
  },
  {
   "cell_type": "code",
   "execution_count": 1,
   "metadata": {},
   "outputs": [],
   "source": [
    "#%load_ext autoreload\n",
    "%reload_ext autoreload\n",
    "%autoreload 3\n",
    "%matplotlib inline\n",
    "import matplotlib.pyplot as plt\n",
    "import numpy as np\n",
    "import pandas as pd\n",
    "import seaborn as sns\n",
    "import os, sys, json\n",
    "import pprint\n",
    "pp = pprint.PrettyPrinter(indent=1)\n",
    "sns.set_theme()"
   ]
  },
  {
   "cell_type": "markdown",
   "metadata": {},
   "source": [
    "## 0. Importing GUS modules"
   ]
  },
  {
   "cell_type": "code",
   "execution_count": 2,
   "metadata": {},
   "outputs": [],
   "source": [
    "module_path = os.path.abspath(os.path.join('..'))\n",
    "if module_path not in sys.path:\n",
    "    sys.path.append(module_path)"
   ]
  },
  {
   "cell_type": "code",
   "execution_count": 3,
   "metadata": {},
   "outputs": [],
   "source": [
    "from src.gus.models import Urban\n",
    "from src.gus.utilities import get_raster_data"
   ]
  },
  {
   "cell_type": "markdown",
   "metadata": {},
   "source": [
    "## 1. Initilisation"
   ]
  },
  {
   "cell_type": "markdown",
   "metadata": {},
   "source": [
    "### 1.1 Importing data on site, tree populations, experiment parameters"
   ]
  },
  {
   "cell_type": "code",
   "execution_count": 4,
   "metadata": {},
   "outputs": [],
   "source": [
    "import logging\n",
    "logfile = os.path.join(module_path, 'outputs/gus.log')\n",
    "logging.basicConfig(filename=logfile, format='%(asctime)s %(levelname)s %(message)s', level=logging.INFO)\n",
    "\n",
    "# File that holds site/city other geolocated data and parameters\n",
    "fname_config_site = os.path.join(module_path, 'src/gus/inputs/site.json')\n",
    "\n",
    "# File that include tree species specific parameters\n",
    "fname_config_allometrics = os.path.join(module_path, 'src/gus/inputs/allometrics.json')\n",
    "\n",
    "# File that include individual tree data including their location on a 2D raster of the actual location\n",
    "fname_data_trees = os.path.join(module_path, 'src/gus/inputs/trees.csv')\n",
    "\n",
    "# File that holds experiment parameters\n",
    "fname_scenario_params = os.path.join(module_path, 'src/gus/inputs/scenario.json')"
   ]
  },
  {
   "cell_type": "code",
   "execution_count": 5,
   "metadata": {},
   "outputs": [],
   "source": [
    "f = open(fname_config_allometrics)\n",
    "config_allometrics = json.loads(f.read())\n",
    "#pp.pprint(config_allometrics)"
   ]
  },
  {
   "cell_type": "code",
   "execution_count": 6,
   "metadata": {},
   "outputs": [
    {
     "name": "stdout",
     "output_type": "stream",
     "text": [
      "{'area_impervious_in_m2': 500,\n",
      " 'area_pervious_in_m2': 500,\n",
      " 'area_total_in_m2': 1000,\n",
      " 'area_tree_density_per_hectare': 400,\n",
      " 'project_site_type': 'park',\n",
      " 'weather': {'growth_season_mean': 200, 'growth_season_var': 7}}\n"
     ]
    }
   ],
   "source": [
    "f = open(fname_config_site)\n",
    "config_site = json.loads(f.read())\n",
    "pp.pprint(config_site)"
   ]
  },
  {
   "cell_type": "code",
   "execution_count": 7,
   "metadata": {},
   "outputs": [
    {
     "data": {
      "text/html": [
       "<div>\n",
       "<style scoped>\n",
       "    .dataframe tbody tr th:only-of-type {\n",
       "        vertical-align: middle;\n",
       "    }\n",
       "\n",
       "    .dataframe tbody tr th {\n",
       "        vertical-align: top;\n",
       "    }\n",
       "\n",
       "    .dataframe thead th {\n",
       "        text-align: right;\n",
       "    }\n",
       "</style>\n",
       "<table border=\"1\" class=\"dataframe\">\n",
       "  <thead>\n",
       "    <tr style=\"text-align: right;\">\n",
       "      <th></th>\n",
       "      <th>id</th>\n",
       "      <th>species</th>\n",
       "      <th>dbh</th>\n",
       "      <th>height</th>\n",
       "      <th>condition</th>\n",
       "      <th>xpos</th>\n",
       "      <th>ypos</th>\n",
       "    </tr>\n",
       "  </thead>\n",
       "  <tbody>\n",
       "    <tr>\n",
       "      <th>95</th>\n",
       "      <td>96</td>\n",
       "      <td>conifer</td>\n",
       "      <td>13.871098</td>\n",
       "      <td>3.303454</td>\n",
       "      <td>good</td>\n",
       "      <td>17</td>\n",
       "      <td>4</td>\n",
       "    </tr>\n",
       "    <tr>\n",
       "      <th>96</th>\n",
       "      <td>97</td>\n",
       "      <td>conifer</td>\n",
       "      <td>12.561324</td>\n",
       "      <td>3.165903</td>\n",
       "      <td>good</td>\n",
       "      <td>17</td>\n",
       "      <td>5</td>\n",
       "    </tr>\n",
       "    <tr>\n",
       "      <th>97</th>\n",
       "      <td>98</td>\n",
       "      <td>conifer</td>\n",
       "      <td>13.651542</td>\n",
       "      <td>3.436859</td>\n",
       "      <td>good</td>\n",
       "      <td>17</td>\n",
       "      <td>6</td>\n",
       "    </tr>\n",
       "    <tr>\n",
       "      <th>98</th>\n",
       "      <td>99</td>\n",
       "      <td>conifer</td>\n",
       "      <td>12.610441</td>\n",
       "      <td>3.195499</td>\n",
       "      <td>good</td>\n",
       "      <td>17</td>\n",
       "      <td>3</td>\n",
       "    </tr>\n",
       "    <tr>\n",
       "      <th>99</th>\n",
       "      <td>100</td>\n",
       "      <td>conifer</td>\n",
       "      <td>12.491068</td>\n",
       "      <td>3.467151</td>\n",
       "      <td>excellent</td>\n",
       "      <td>17</td>\n",
       "      <td>7</td>\n",
       "    </tr>\n",
       "  </tbody>\n",
       "</table>\n",
       "</div>"
      ],
      "text/plain": [
       "     id  species        dbh    height  condition  xpos  ypos\n",
       "95   96  conifer  13.871098  3.303454       good    17     4\n",
       "96   97  conifer  12.561324  3.165903       good    17     5\n",
       "97   98  conifer  13.651542  3.436859       good    17     6\n",
       "98   99  conifer  12.610441  3.195499       good    17     3\n",
       "99  100  conifer  12.491068  3.467151  excellent    17     7"
      ]
     },
     "execution_count": 7,
     "metadata": {},
     "output_type": "execute_result"
    }
   ],
   "source": [
    "df_pop = pd.read_csv(fname_data_trees)\n",
    "df_pop.tail()"
   ]
  },
  {
   "cell_type": "code",
   "execution_count": 8,
   "metadata": {},
   "outputs": [
    {
     "name": "stdout",
     "output_type": "stream",
     "text": [
      "{'is_crownsunexposure_fixed': 1,\n",
      " 'maintenance_scope': 2,\n",
      " 'time_horizon_years': 50}\n"
     ]
    }
   ],
   "source": [
    "f = open(fname_scenario_params)\n",
    "scenario_params = json.loads(f.read())\n",
    "pp.pprint(scenario_params)"
   ]
  },
  {
   "cell_type": "markdown",
   "metadata": {},
   "source": [
    "### 1.2 Creating a digital twin of the site"
   ]
  },
  {
   "cell_type": "code",
   "execution_count": 9,
   "metadata": {},
   "outputs": [],
   "source": [
    "site = Urban(df_pop,\n",
    "            fname_config_allometrics,\n",
    "            fname_config_site,\n",
    "            scenario_params)"
   ]
  },
  {
   "cell_type": "code",
   "execution_count": 10,
   "metadata": {},
   "outputs": [
    {
     "data": {
      "image/png": "[encoded data removed]",
      "text/plain": [
       "<Figure size 1152x864 with 2 Axes>"
      ]
     },
     "metadata": {},
     "output_type": "display_data"
    }
   ],
   "source": [
    "initial_locations = get_raster_data(site, counts=True)\n",
    "initial_biomass = get_raster_data(site, var='biomass')\n",
    "\n",
    "sns.set_style(\"ticks\")\n",
    "fig = plt.figure(figsize=(16,12))\n",
    "plt.subplot(121)\n",
    "plt.imshow(initial_locations, cmap='Greens')\n",
    "plt.title(\"Tree Locations\")\n",
    "plt.subplot(122)\n",
    "plt.title(\"Biomass Concentrations\")\n",
    "plt.imshow(initial_biomass, cmap='Blues')\n",
    "#plt.colorbar(label = 'Biomass - Kg')\n",
    "plt.show()"
   ]
  },
  {
   "cell_type": "markdown",
   "metadata": {},
   "source": [
    "## 2. Running the scenario"
   ]
  },
  {
   "cell_type": "code",
   "execution_count": 11,
   "metadata": {},
   "outputs": [],
   "source": [
    "for i in range(scenario_params['time_horizon_years']):\n",
    "    site.step()"
   ]
  },
  {
   "cell_type": "markdown",
   "metadata": {},
   "source": [
    "## 3. Analysis"
   ]
  },
  {
   "cell_type": "markdown",
   "metadata": {},
   "source": [
    "### 3.1 Individual tree level inspections "
   ]
  },
  {
   "cell_type": "code",
   "execution_count": 12,
   "metadata": {},
   "outputs": [
    {
     "data": {
      "text/html": [
       "<div>\n",
       "<style scoped>\n",
       "    .dataframe tbody tr th:only-of-type {\n",
       "        vertical-align: middle;\n",
       "    }\n",
       "\n",
       "    .dataframe tbody tr th {\n",
       "        vertical-align: top;\n",
       "    }\n",
       "\n",
       "    .dataframe thead th {\n",
       "        text-align: right;\n",
       "    }\n",
       "</style>\n",
       "<table border=\"1\" class=\"dataframe\">\n",
       "  <thead>\n",
       "    <tr style=\"text-align: right;\">\n",
       "      <th></th>\n",
       "      <th></th>\n",
       "      <th>species</th>\n",
       "      <th>dbh</th>\n",
       "      <th>height</th>\n",
       "      <th>crownH</th>\n",
       "      <th>crownW</th>\n",
       "      <th>canopy_overlap</th>\n",
       "      <th>cle</th>\n",
       "      <th>condition</th>\n",
       "      <th>dieback</th>\n",
       "      <th>biomass</th>\n",
       "      <th>seq</th>\n",
       "      <th>carbon</th>\n",
       "      <th>deroot</th>\n",
       "      <th>detrunk</th>\n",
       "      <th>mulched</th>\n",
       "      <th>burnt</th>\n",
       "      <th>coordinates</th>\n",
       "    </tr>\n",
       "    <tr>\n",
       "      <th>Step</th>\n",
       "      <th>AgentID</th>\n",
       "      <th></th>\n",
       "      <th></th>\n",
       "      <th></th>\n",
       "      <th></th>\n",
       "      <th></th>\n",
       "      <th></th>\n",
       "      <th></th>\n",
       "      <th></th>\n",
       "      <th></th>\n",
       "      <th></th>\n",
       "      <th></th>\n",
       "      <th></th>\n",
       "      <th></th>\n",
       "      <th></th>\n",
       "      <th></th>\n",
       "      <th></th>\n",
       "      <th></th>\n",
       "    </tr>\n",
       "  </thead>\n",
       "  <tbody>\n",
       "    <tr>\n",
       "      <th rowspan=\"5\" valign=\"top\">50</th>\n",
       "      <th>153</th>\n",
       "      <td>conifer</td>\n",
       "      <td>16.846444</td>\n",
       "      <td>9.979643</td>\n",
       "      <td>5.729985</td>\n",
       "      <td>3.749421</td>\n",
       "      <td>0.078119</td>\n",
       "      <td>0.960677</td>\n",
       "      <td>good</td>\n",
       "      <td>0.010527</td>\n",
       "      <td>125.687013</td>\n",
       "      <td>6.341107</td>\n",
       "      <td>62.843506</td>\n",
       "      <td>0.0</td>\n",
       "      <td>0.0</td>\n",
       "      <td>0.033077</td>\n",
       "      <td>0.0</td>\n",
       "      <td>(12, 5)</td>\n",
       "    </tr>\n",
       "    <tr>\n",
       "      <th>154</th>\n",
       "      <td>decidu</td>\n",
       "      <td>12.792370</td>\n",
       "      <td>9.948122</td>\n",
       "      <td>5.227545</td>\n",
       "      <td>4.527505</td>\n",
       "      <td>0.692100</td>\n",
       "      <td>0.651723</td>\n",
       "      <td>excellent</td>\n",
       "      <td>0.002000</td>\n",
       "      <td>73.317615</td>\n",
       "      <td>5.650113</td>\n",
       "      <td>36.658808</td>\n",
       "      <td>0.0</td>\n",
       "      <td>0.0</td>\n",
       "      <td>0.003666</td>\n",
       "      <td>0.0</td>\n",
       "      <td>(10, 1)</td>\n",
       "    </tr>\n",
       "    <tr>\n",
       "      <th>155</th>\n",
       "      <td>decidu</td>\n",
       "      <td>11.128713</td>\n",
       "      <td>9.223042</td>\n",
       "      <td>4.785981</td>\n",
       "      <td>4.144372</td>\n",
       "      <td>0.631761</td>\n",
       "      <td>0.670765</td>\n",
       "      <td>excellent</td>\n",
       "      <td>0.001000</td>\n",
       "      <td>53.586615</td>\n",
       "      <td>4.848804</td>\n",
       "      <td>26.793307</td>\n",
       "      <td>0.0</td>\n",
       "      <td>0.0</td>\n",
       "      <td>0.001340</td>\n",
       "      <td>0.0</td>\n",
       "      <td>(6, 6)</td>\n",
       "    </tr>\n",
       "    <tr>\n",
       "      <th>156</th>\n",
       "      <td>conifer</td>\n",
       "      <td>10.069305</td>\n",
       "      <td>6.372897</td>\n",
       "      <td>4.037531</td>\n",
       "      <td>2.531315</td>\n",
       "      <td>0.011598</td>\n",
       "      <td>0.993260</td>\n",
       "      <td>excellent</td>\n",
       "      <td>0.006897</td>\n",
       "      <td>35.693402</td>\n",
       "      <td>3.054660</td>\n",
       "      <td>17.846701</td>\n",
       "      <td>0.0</td>\n",
       "      <td>0.0</td>\n",
       "      <td>0.006155</td>\n",
       "      <td>0.0</td>\n",
       "      <td>(13, 4)</td>\n",
       "    </tr>\n",
       "    <tr>\n",
       "      <th>157</th>\n",
       "      <td>conifer</td>\n",
       "      <td>9.383913</td>\n",
       "      <td>5.984263</td>\n",
       "      <td>3.855833</td>\n",
       "      <td>2.402785</td>\n",
       "      <td>0.000000</td>\n",
       "      <td>0.560000</td>\n",
       "      <td>excellent</td>\n",
       "      <td>0.009876</td>\n",
       "      <td>30.040176</td>\n",
       "      <td>0.000000</td>\n",
       "      <td>15.020088</td>\n",
       "      <td>0.0</td>\n",
       "      <td>0.0</td>\n",
       "      <td>0.000000</td>\n",
       "      <td>0.0</td>\n",
       "      <td>(0, 6)</td>\n",
       "    </tr>\n",
       "  </tbody>\n",
       "</table>\n",
       "</div>"
      ],
      "text/plain": [
       "              species        dbh    height    crownH    crownW  \\\n",
       "Step AgentID                                                     \n",
       "50   153      conifer  16.846444  9.979643  5.729985  3.749421   \n",
       "     154       decidu  12.792370  9.948122  5.227545  4.527505   \n",
       "     155       decidu  11.128713  9.223042  4.785981  4.144372   \n",
       "     156      conifer  10.069305  6.372897  4.037531  2.531315   \n",
       "     157      conifer   9.383913  5.984263  3.855833  2.402785   \n",
       "\n",
       "              canopy_overlap       cle  condition   dieback     biomass  \\\n",
       "Step AgentID                                                              \n",
       "50   153            0.078119  0.960677       good  0.010527  125.687013   \n",
       "     154            0.692100  0.651723  excellent  0.002000   73.317615   \n",
       "     155            0.631761  0.670765  excellent  0.001000   53.586615   \n",
       "     156            0.011598  0.993260  excellent  0.006897   35.693402   \n",
       "     157            0.000000  0.560000  excellent  0.009876   30.040176   \n",
       "\n",
       "                   seq     carbon  deroot  detrunk   mulched  burnt  \\\n",
       "Step AgentID                                                          \n",
       "50   153      6.341107  62.843506     0.0      0.0  0.033077    0.0   \n",
       "     154      5.650113  36.658808     0.0      0.0  0.003666    0.0   \n",
       "     155      4.848804  26.793307     0.0      0.0  0.001340    0.0   \n",
       "     156      3.054660  17.846701     0.0      0.0  0.006155    0.0   \n",
       "     157      0.000000  15.020088     0.0      0.0  0.000000    0.0   \n",
       "\n",
       "             coordinates  \n",
       "Step AgentID              \n",
       "50   153         (12, 5)  \n",
       "     154         (10, 1)  \n",
       "     155          (6, 6)  \n",
       "     156         (13, 4)  \n",
       "     157          (0, 6)  "
      ]
     },
     "execution_count": 12,
     "metadata": {},
     "output_type": "execute_result"
    }
   ],
   "source": [
    "# Tree level individual variables\n",
    "fname_output_trees = os.path.join(module_path, 'outputs/trees_yearly.json')\n",
    "df_out_tree = site.datacollector.get_agent_vars_dataframe()\n",
    "df_out_tree.to_csv(fname_output_trees, index=True)\n",
    "df_out_tree.tail()"
   ]
  },
  {
   "cell_type": "code",
   "execution_count": 20,
   "metadata": {},
   "outputs": [
    {
     "data": {
      "text/html": [
       "<div>\n",
       "<style scoped>\n",
       "    .dataframe tbody tr th:only-of-type {\n",
       "        vertical-align: middle;\n",
       "    }\n",
       "\n",
       "    .dataframe tbody tr th {\n",
       "        vertical-align: top;\n",
       "    }\n",
       "\n",
       "    .dataframe thead th {\n",
       "        text-align: right;\n",
       "    }\n",
       "</style>\n",
       "<table border=\"1\" class=\"dataframe\">\n",
       "  <thead>\n",
       "    <tr style=\"text-align: right;\">\n",
       "      <th></th>\n",
       "      <th>species</th>\n",
       "      <th>dbh</th>\n",
       "      <th>height</th>\n",
       "      <th>crownH</th>\n",
       "      <th>crownW</th>\n",
       "      <th>canopy_overlap</th>\n",
       "      <th>cle</th>\n",
       "      <th>condition</th>\n",
       "      <th>dieback</th>\n",
       "      <th>biomass</th>\n",
       "      <th>seq</th>\n",
       "      <th>carbon</th>\n",
       "      <th>deroot</th>\n",
       "      <th>detrunk</th>\n",
       "      <th>mulched</th>\n",
       "      <th>burnt</th>\n",
       "      <th>coordinates</th>\n",
       "    </tr>\n",
       "    <tr>\n",
       "      <th>Step</th>\n",
       "      <th></th>\n",
       "      <th></th>\n",
       "      <th></th>\n",
       "      <th></th>\n",
       "      <th></th>\n",
       "      <th></th>\n",
       "      <th></th>\n",
       "      <th></th>\n",
       "      <th></th>\n",
       "      <th></th>\n",
       "      <th></th>\n",
       "      <th></th>\n",
       "      <th></th>\n",
       "      <th></th>\n",
       "      <th></th>\n",
       "      <th></th>\n",
       "      <th></th>\n",
       "    </tr>\n",
       "  </thead>\n",
       "  <tbody>\n",
       "    <tr>\n",
       "      <th>1</th>\n",
       "      <td>decidu</td>\n",
       "      <td>13.397538</td>\n",
       "      <td>10.201059</td>\n",
       "      <td>5.385001</td>\n",
       "      <td>4.664640</td>\n",
       "      <td>0.000000</td>\n",
       "      <td>1.000000</td>\n",
       "      <td>excellent</td>\n",
       "      <td>0.000</td>\n",
       "      <td>81.354047</td>\n",
       "      <td>8.586571</td>\n",
       "      <td>40.677024</td>\n",
       "      <td>0.0</td>\n",
       "      <td>0.0</td>\n",
       "      <td>0.000000</td>\n",
       "      <td>0.0</td>\n",
       "      <td>(6, 8)</td>\n",
       "    </tr>\n",
       "    <tr>\n",
       "      <th>2</th>\n",
       "      <td>decidu</td>\n",
       "      <td>14.905643</td>\n",
       "      <td>10.809594</td>\n",
       "      <td>5.770043</td>\n",
       "      <td>5.001210</td>\n",
       "      <td>0.000000</td>\n",
       "      <td>1.000000</td>\n",
       "      <td>excellent</td>\n",
       "      <td>0.000</td>\n",
       "      <td>103.424216</td>\n",
       "      <td>11.035084</td>\n",
       "      <td>51.712108</td>\n",
       "      <td>0.0</td>\n",
       "      <td>0.0</td>\n",
       "      <td>0.000000</td>\n",
       "      <td>0.0</td>\n",
       "      <td>(6, 8)</td>\n",
       "    </tr>\n",
       "    <tr>\n",
       "      <th>3</th>\n",
       "      <td>decidu</td>\n",
       "      <td>16.252874</td>\n",
       "      <td>11.329808</td>\n",
       "      <td>6.105142</td>\n",
       "      <td>5.295625</td>\n",
       "      <td>0.022962</td>\n",
       "      <td>0.991172</td>\n",
       "      <td>excellent</td>\n",
       "      <td>0.001</td>\n",
       "      <td>125.656310</td>\n",
       "      <td>11.116047</td>\n",
       "      <td>62.828155</td>\n",
       "      <td>0.0</td>\n",
       "      <td>0.0</td>\n",
       "      <td>0.003141</td>\n",
       "      <td>0.0</td>\n",
       "      <td>(6, 8)</td>\n",
       "    </tr>\n",
       "    <tr>\n",
       "      <th>4</th>\n",
       "      <td>decidu</td>\n",
       "      <td>17.630255</td>\n",
       "      <td>11.841670</td>\n",
       "      <td>6.439088</td>\n",
       "      <td>5.590529</td>\n",
       "      <td>0.075259</td>\n",
       "      <td>0.971045</td>\n",
       "      <td>excellent</td>\n",
       "      <td>0.000</td>\n",
       "      <td>150.897142</td>\n",
       "      <td>12.620416</td>\n",
       "      <td>75.448571</td>\n",
       "      <td>0.0</td>\n",
       "      <td>0.0</td>\n",
       "      <td>0.000000</td>\n",
       "      <td>0.0</td>\n",
       "      <td>(6, 8)</td>\n",
       "    </tr>\n",
       "    <tr>\n",
       "      <th>5</th>\n",
       "      <td>decidu</td>\n",
       "      <td>19.025171</td>\n",
       "      <td>12.341745</td>\n",
       "      <td>6.768370</td>\n",
       "      <td>5.882903</td>\n",
       "      <td>0.116801</td>\n",
       "      <td>0.955343</td>\n",
       "      <td>excellent</td>\n",
       "      <td>0.001</td>\n",
       "      <td>179.100062</td>\n",
       "      <td>14.101460</td>\n",
       "      <td>89.550031</td>\n",
       "      <td>0.0</td>\n",
       "      <td>0.0</td>\n",
       "      <td>0.004478</td>\n",
       "      <td>0.0</td>\n",
       "      <td>(6, 8)</td>\n",
       "    </tr>\n",
       "  </tbody>\n",
       "</table>\n",
       "</div>"
      ],
      "text/plain": [
       "     species        dbh     height    crownH    crownW  canopy_overlap  \\\n",
       "Step                                                                     \n",
       "1     decidu  13.397538  10.201059  5.385001  4.664640        0.000000   \n",
       "2     decidu  14.905643  10.809594  5.770043  5.001210        0.000000   \n",
       "3     decidu  16.252874  11.329808  6.105142  5.295625        0.022962   \n",
       "4     decidu  17.630255  11.841670  6.439088  5.590529        0.075259   \n",
       "5     decidu  19.025171  12.341745  6.768370  5.882903        0.116801   \n",
       "\n",
       "           cle  condition  dieback     biomass        seq     carbon  deroot  \\\n",
       "Step                                                                           \n",
       "1     1.000000  excellent    0.000   81.354047   8.586571  40.677024     0.0   \n",
       "2     1.000000  excellent    0.000  103.424216  11.035084  51.712108     0.0   \n",
       "3     0.991172  excellent    0.001  125.656310  11.116047  62.828155     0.0   \n",
       "4     0.971045  excellent    0.000  150.897142  12.620416  75.448571     0.0   \n",
       "5     0.955343  excellent    0.001  179.100062  14.101460  89.550031     0.0   \n",
       "\n",
       "      detrunk   mulched  burnt coordinates  \n",
       "Step                                        \n",
       "1         0.0  0.000000    0.0      (6, 8)  \n",
       "2         0.0  0.000000    0.0      (6, 8)  \n",
       "3         0.0  0.003141    0.0      (6, 8)  \n",
       "4         0.0  0.000000    0.0      (6, 8)  \n",
       "5         0.0  0.004478    0.0      (6, 8)  "
      ]
     },
     "execution_count": 20,
     "metadata": {},
     "output_type": "execute_result"
    }
   ],
   "source": [
    "Specific_Tree = df_out_tree.xs(42, level=\"AgentID\")\n",
    "Specific_Tree.head()"
   ]
  },
  {
   "cell_type": "code",
   "execution_count": 14,
   "metadata": {},
   "outputs": [
    {
     "data": {
      "image/png": "[encoded data removed]",
      "text/plain": [
       "<Figure size 1152x576 with 4 Axes>"
      ]
     },
     "metadata": {},
     "output_type": "display_data"
    }
   ],
   "source": [
    "sns.set_theme()\n",
    "fig = plt.figure(figsize=(16,8))\n",
    "plt.subplot(221)\n",
    "Specific_Tree.height.plot()\n",
    "plt.xlabel('Years')\n",
    "plt.ylabel('m')\n",
    "plt.legend()\n",
    "plt.subplot(222)\n",
    "Specific_Tree.dbh.plot()\n",
    "plt.xlabel('Years')\n",
    "plt.ylabel('cm')\n",
    "plt.legend()\n",
    "plt.subplot(223)\n",
    "Specific_Tree.carbon.plot()\n",
    "plt.xlabel('Years')\n",
    "plt.ylabel('Kg')\n",
    "plt.legend()\n",
    "plt.subplot(224)\n",
    "Specific_Tree.dieback.plot()\n",
    "plt.xlabel('Years')\n",
    "plt.ylabel('ratio')\n",
    "plt.legend()\n",
    "plt.show()"
   ]
  },
  {
   "cell_type": "code",
   "execution_count": 22,
   "metadata": {},
   "outputs": [
    {
     "data": {
      "text/plain": [
       "(30.916305593378414, 0.12255285262844401, 31.03885844600686)"
      ]
     },
     "execution_count": 22,
     "metadata": {},
     "output_type": "execute_result"
    }
   ],
   "source": [
    "# Check leaf area indices\n",
    "from src.impacts.water import *\n",
    "C = Calibration(leaf_transition_days=28)\n",
    "state = Specific_Tree.xs(5)\n",
    "dbh = state['dbh']\n",
    "th = state['height']\n",
    "ch = state['crownH']\n",
    "cw = state['crownW']\n",
    "loss = state['dieback']\n",
    "compute_leaf_area_index(dbh,th,ch,cw,loss,C.avg_shade_factor)"
   ]
  },
  {
   "cell_type": "code",
   "execution_count": 23,
   "metadata": {},
   "outputs": [
    {
     "data": {
      "text/plain": [
       "(89.55003087435036, 179.1000617487007)"
      ]
     },
     "execution_count": 23,
     "metadata": {},
     "output_type": "execute_result"
    }
   ],
   "source": [
    "# Using carbon estimator seperately\n",
    "from src.impacts.carbon import Carbon\n",
    "myCarbs = Carbon(fname_config_allometrics,'decidu')\n",
    "myCarbs.compute_carbon_storage(dbh)"
   ]
  },
  {
   "cell_type": "code",
   "execution_count": 21,
   "metadata": {},
   "outputs": [
    {
     "data": {
      "text/plain": [
       "953.4818769783853"
      ]
     },
     "execution_count": 21,
     "metadata": {},
     "output_type": "execute_result"
    }
   ],
   "source": []
  },
  {
   "cell_type": "markdown",
   "metadata": {},
   "source": [
    "### 3.2 Site level inspections"
   ]
  },
  {
   "cell_type": "code",
   "execution_count": 17,
   "metadata": {},
   "outputs": [
    {
     "data": {
      "text/html": [
       "<div>\n",
       "<style scoped>\n",
       "    .dataframe tbody tr th:only-of-type {\n",
       "        vertical-align: middle;\n",
       "    }\n",
       "\n",
       "    .dataframe tbody tr th {\n",
       "        vertical-align: top;\n",
       "    }\n",
       "\n",
       "    .dataframe thead th {\n",
       "        text-align: right;\n",
       "    }\n",
       "</style>\n",
       "<table border=\"1\" class=\"dataframe\">\n",
       "  <thead>\n",
       "    <tr style=\"text-align: right;\">\n",
       "      <th></th>\n",
       "      <th>Storage</th>\n",
       "      <th>Seq</th>\n",
       "      <th>Released</th>\n",
       "      <th>Alive</th>\n",
       "      <th>Dead</th>\n",
       "      <th>Critical</th>\n",
       "      <th>Dying</th>\n",
       "      <th>Poor</th>\n",
       "      <th>Replaced</th>\n",
       "      <th>Seq_std</th>\n",
       "    </tr>\n",
       "  </thead>\n",
       "  <tbody>\n",
       "    <tr>\n",
       "      <th>45</th>\n",
       "      <td>71450.994711</td>\n",
       "      <td>1705.441672</td>\n",
       "      <td>110.791747</td>\n",
       "      <td>100</td>\n",
       "      <td>0</td>\n",
       "      <td>0</td>\n",
       "      <td>0</td>\n",
       "      <td>0</td>\n",
       "      <td>54</td>\n",
       "      <td>9.865872</td>\n",
       "    </tr>\n",
       "    <tr>\n",
       "      <th>46</th>\n",
       "      <td>73026.399518</td>\n",
       "      <td>1575.404807</td>\n",
       "      <td>158.839089</td>\n",
       "      <td>99</td>\n",
       "      <td>1</td>\n",
       "      <td>0</td>\n",
       "      <td>0</td>\n",
       "      <td>0</td>\n",
       "      <td>54</td>\n",
       "      <td>9.247432</td>\n",
       "    </tr>\n",
       "    <tr>\n",
       "      <th>47</th>\n",
       "      <td>74639.025735</td>\n",
       "      <td>1595.130789</td>\n",
       "      <td>298.103995</td>\n",
       "      <td>99</td>\n",
       "      <td>1</td>\n",
       "      <td>0</td>\n",
       "      <td>0</td>\n",
       "      <td>0</td>\n",
       "      <td>55</td>\n",
       "      <td>9.531700</td>\n",
       "    </tr>\n",
       "    <tr>\n",
       "      <th>48</th>\n",
       "      <td>76256.979199</td>\n",
       "      <td>1603.161423</td>\n",
       "      <td>291.989958</td>\n",
       "      <td>99</td>\n",
       "      <td>1</td>\n",
       "      <td>0</td>\n",
       "      <td>0</td>\n",
       "      <td>0</td>\n",
       "      <td>56</td>\n",
       "      <td>9.711863</td>\n",
       "    </tr>\n",
       "    <tr>\n",
       "      <th>49</th>\n",
       "      <td>77844.394283</td>\n",
       "      <td>1572.394996</td>\n",
       "      <td>197.432631</td>\n",
       "      <td>100</td>\n",
       "      <td>0</td>\n",
       "      <td>0</td>\n",
       "      <td>0</td>\n",
       "      <td>0</td>\n",
       "      <td>57</td>\n",
       "      <td>9.571495</td>\n",
       "    </tr>\n",
       "  </tbody>\n",
       "</table>\n",
       "</div>"
      ],
      "text/plain": [
       "         Storage          Seq    Released  Alive  Dead  Critical  Dying  Poor  \\\n",
       "45  71450.994711  1705.441672  110.791747    100     0         0      0     0   \n",
       "46  73026.399518  1575.404807  158.839089     99     1         0      0     0   \n",
       "47  74639.025735  1595.130789  298.103995     99     1         0      0     0   \n",
       "48  76256.979199  1603.161423  291.989958     99     1         0      0     0   \n",
       "49  77844.394283  1572.394996  197.432631    100     0         0      0     0   \n",
       "\n",
       "    Replaced   Seq_std  \n",
       "45        54  9.865872  \n",
       "46        54  9.247432  \n",
       "47        55  9.531700  \n",
       "48        56  9.711863  \n",
       "49        57  9.571495  "
      ]
     },
     "execution_count": 17,
     "metadata": {},
     "output_type": "execute_result"
    }
   ],
   "source": [
    "# Site level aggregate variables\n",
    "df_out_site = site.datacollector.get_model_vars_dataframe()\n",
    "df_out_site.tail()"
   ]
  },
  {
   "cell_type": "code",
   "execution_count": 18,
   "metadata": {},
   "outputs": [
    {
     "data": {
      "image/png": "[encoded data removed]",
      "text/plain": [
       "<Figure size 1152x576 with 1 Axes>"
      ]
     },
     "metadata": {},
     "output_type": "display_data"
    }
   ],
   "source": [
    "fig = plt.figure(figsize=(16,8))\n",
    "df_out_site.Seq.plot()\n",
    "df_out_site.Released.plot()\n",
    "plt.xlabel('Years')\n",
    "plt.ylabel('Kg')\n",
    "plt.legend()\n",
    "plt.show()"
   ]
  },
  {
   "cell_type": "code",
   "execution_count": 19,
   "metadata": {},
   "outputs": [
    {
     "data": {
      "image/png": "[encoded data removed]",
      "text/plain": [
       "<Figure size 1152x1152 with 6 Axes>"
      ]
     },
     "metadata": {},
     "output_type": "display_data"
    }
   ],
   "source": [
    "locations = get_raster_data(site, counts=True)\n",
    "biomass = get_raster_data(site, var='biomass')\n",
    "\n",
    "sns.set_style(\"ticks\")\n",
    "fig = plt.figure(figsize=(16,16))\n",
    "plt.subplot(221)\n",
    "plt.imshow(initial_locations, cmap='Greens')\n",
    "plt.title(\"Initial Tree Canopy\")\n",
    "\n",
    "plt.subplot(222)\n",
    "plt.imshow(locations, cmap='Greens')\n",
    "plt.title(\"Current Tree Canopy\")\n",
    "\n",
    "plt.subplot(223)\n",
    "plt.title(\"Initial biomass concentrations\")\n",
    "plt.imshow(initial_biomass, cmap='Blues', vmin=0, vmax=biomass.max())\n",
    "plt.colorbar(label = 'Biomass - Kg')\n",
    "\n",
    "plt.subplot(224)\n",
    "plt.title(\"Current biomass concentrations\")\n",
    "plt.imshow(biomass, cmap='Blues')\n",
    "plt.colorbar(label = 'Biomass - Kg')\n",
    "plt.show()"
   ]
  },
  {
   "cell_type": "code",
   "execution_count": null,
   "metadata": {},
   "outputs": [],
   "source": []
  },
  {
   "cell_type": "code",
   "execution_count": null,
   "metadata": {},
   "outputs": [],
   "source": []
  }
 ],
 "metadata": {
  "kernelspec": {
   "display_name": "Python 3.9.12 ('SAF2')",
   "language": "python",
   "name": "python3"
  },
  "language_info": {
   "codemirror_mode": {
    "name": "ipython",
    "version": 3
   },
   "file_extension": ".py",
   "mimetype": "text/x-python",
   "name": "python",
   "nbconvert_exporter": "python",
   "pygments_lexer": "ipython3",
   "version": "3.9.12"
  },
  "orig_nbformat": 4,
  "vscode": {
   "interpreter": {
    "hash": "7a0b2806fe8897b4ed8201233331fc3a08620b9cffb6232c110f02a618d137bf"
   }
  }
 },
 "nbformat": 4,
 "nbformat_minor": 2
}
