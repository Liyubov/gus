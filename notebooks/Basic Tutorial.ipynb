{
 "cells": [
  {
   "cell_type": "markdown",
   "metadata": {},
   "source": [
    "# Tutorial - Green Urban Scenarious\n",
    "A demo of a minimal flow of GUS process. "
   ]
  },
  {
   "cell_type": "code",
   "execution_count": null,
   "metadata": {},
   "outputs": [],
   "source": [
    "#%load_ext autoreload\n",
    "%reload_ext autoreload\n",
    "%autoreload 3\n",
    "%matplotlib inline\n",
    "import matplotlib.pyplot as plt\n",
    "import numpy as np\n",
    "import pandas as pd\n",
    "import seaborn as sns\n",
    "import os, sys, json\n",
    "import pprint\n",
    "pp = pprint.PrettyPrinter(indent=1)\n",
    "sns.set_theme()"
   ]
  },
  {
   "cell_type": "markdown",
   "metadata": {},
   "source": [
    "## 0. Importing GUS modules"
   ]
  },
  {
   "cell_type": "code",
   "execution_count": null,
   "metadata": {},
   "outputs": [],
   "source": [
    "module_path = os.path.abspath(os.path.join('..'))\n",
    "if module_path not in sys.path:\n",
    "    sys.path.append(module_path)\n",
    "from src.gus.models import Urban\n",
    "from src.gus.utilities import get_raster_data"
   ]
  },
  {
   "cell_type": "markdown",
   "metadata": {},
   "source": [
    "## 1. Initilisation"
   ]
  },
  {
   "cell_type": "markdown",
   "metadata": {},
   "source": [
    "### 1.1 Importing data on site, tree populations, experiment parameters"
   ]
  },
  {
   "cell_type": "code",
   "execution_count": null,
   "metadata": {},
   "outputs": [],
   "source": [
    "import logging\n",
    "logfile = os.path.join(module_path, 'outputs/gus.log')\n",
    "logging.basicConfig(filename=logfile, format='%(asctime)s %(levelname)s %(message)s', level=logging.INFO)\n",
    "\n",
    "# File that holds site/city other geolocated data and parameters\n",
    "fname_config_site = os.path.join(module_path, 'inputs/site.json')\n",
    "\n",
    "# File that include tree species specific parameters\n",
    "fname_config_allometrics = os.path.join(module_path, 'inputs/allometrics.json')\n",
    "\n",
    "# File that include individual tree data including their location on a 2D raster of the actual location\n",
    "fname_data_trees = os.path.join(module_path, 'inputs/trees.csv')\n",
    "\n",
    "# File that holds experiment parameters\n",
    "fname_scenario_params = os.path.join(module_path, 'inputs/scenario.json')"
   ]
  },
  {
   "cell_type": "code",
   "execution_count": null,
   "metadata": {},
   "outputs": [],
   "source": [
    "f = open(fname_config_allometrics)\n",
    "config_allometrics = json.loads(f.read())\n",
    "#pp.pprint(config_allometrics)"
   ]
  },
  {
   "cell_type": "code",
   "execution_count": null,
   "metadata": {},
   "outputs": [],
   "source": [
    "f = open(fname_config_site)\n",
    "config_site = json.loads(f.read())\n",
    "pp.pprint(config_site)"
   ]
  },
  {
   "cell_type": "code",
   "execution_count": null,
   "metadata": {},
   "outputs": [],
   "source": [
    "df_pop = pd.read_csv(fname_data_trees)\n",
    "df_pop.tail()"
   ]
  },
  {
   "cell_type": "code",
   "execution_count": null,
   "metadata": {},
   "outputs": [],
   "source": [
    "f = open(fname_scenario_params)\n",
    "scenario_params = json.loads(f.read())\n",
    "pp.pprint(scenario_params)"
   ]
  },
  {
   "cell_type": "markdown",
   "metadata": {},
   "source": [
    "### 1.2 Creating a digital twin of the site"
   ]
  },
  {
   "cell_type": "code",
   "execution_count": null,
   "metadata": {},
   "outputs": [],
   "source": [
    "site = Urban(df_pop,\n",
    "            fname_config_allometrics,\n",
    "            fname_config_site,\n",
    "            scenario_params)"
   ]
  },
  {
   "cell_type": "code",
   "execution_count": null,
   "metadata": {},
   "outputs": [],
   "source": [
    "initial_locations = get_raster_data(site, counts=True)\n",
    "initial_biomass = get_raster_data(site, var='biomass')\n",
    "\n",
    "sns.set_style(\"ticks\")\n",
    "fig = plt.figure(figsize=(16,12))\n",
    "plt.subplot(121)\n",
    "plt.imshow(initial_locations, cmap='Greens')\n",
    "plt.title(\"Tree Locations\")\n",
    "plt.subplot(122)\n",
    "plt.title(\"Biomass Concentrations\")\n",
    "plt.imshow(initial_biomass, cmap='Blues')\n",
    "#plt.colorbar(label = 'Biomass - Kg')\n",
    "plt.show()"
   ]
  },
  {
   "cell_type": "markdown",
   "metadata": {},
   "source": [
    "## 2. Running the scenario"
   ]
  },
  {
   "cell_type": "code",
   "execution_count": null,
   "metadata": {},
   "outputs": [],
   "source": [
    "for i in range(scenario_params['time_horizon_years']):\n",
    "    site.step()"
   ]
  },
  {
   "cell_type": "markdown",
   "metadata": {},
   "source": [
    "## 3. Analysis"
   ]
  },
  {
   "cell_type": "markdown",
   "metadata": {},
   "source": [
    "### 3.1 Individual tree level inspections "
   ]
  },
  {
   "cell_type": "code",
   "execution_count": null,
   "metadata": {},
   "outputs": [],
   "source": [
    "# Tree level individual variables\n",
    "fname_output_trees = os.path.join(module_path, 'outputs/trees_yearly.json')\n",
    "df_out_tree = site.datacollector.get_agent_vars_dataframe()\n",
    "df_out_tree.to_csv(fname_output_trees, index=True)\n",
    "df_out_tree.tail()"
   ]
  },
  {
   "cell_type": "code",
   "execution_count": null,
   "metadata": {},
   "outputs": [],
   "source": [
    "Specific_Tree = df_out_tree.xs(42, level=\"AgentID\")\n",
    "Specific_Tree.tail()"
   ]
  },
  {
   "cell_type": "code",
   "execution_count": null,
   "metadata": {},
   "outputs": [],
   "source": [
    "sns.set_theme()\n",
    "fig = plt.figure(figsize=(16,8))\n",
    "plt.subplot(221)\n",
    "Specific_Tree.height.plot()\n",
    "plt.xlabel('Years')\n",
    "plt.ylabel('m')\n",
    "plt.legend()\n",
    "plt.subplot(222)\n",
    "Specific_Tree.dbh.plot()\n",
    "plt.xlabel('Years')\n",
    "plt.ylabel('cm')\n",
    "plt.legend()\n",
    "plt.subplot(223)\n",
    "Specific_Tree.carbon.plot()\n",
    "plt.xlabel('Years')\n",
    "plt.ylabel('Kg')\n",
    "plt.legend()\n",
    "plt.subplot(224)\n",
    "Specific_Tree.dieback.plot()\n",
    "plt.xlabel('Years')\n",
    "plt.ylabel('ratio')\n",
    "plt.legend()\n",
    "plt.show()"
   ]
  },
  {
   "cell_type": "markdown",
   "metadata": {},
   "source": [
    "### 3.2 Site level inspections"
   ]
  },
  {
   "cell_type": "code",
   "execution_count": null,
   "metadata": {},
   "outputs": [],
   "source": [
    "# Site level aggregate variables\n",
    "df_out_site = site.datacollector.get_model_vars_dataframe()\n",
    "df_out_site.tail()"
   ]
  },
  {
   "cell_type": "code",
   "execution_count": null,
   "metadata": {},
   "outputs": [],
   "source": [
    "fig = plt.figure(figsize=(16,8))\n",
    "df_out_site.Seq.plot()\n",
    "df_out_site.Released.plot()\n",
    "plt.xlabel('Years')\n",
    "plt.ylabel('Kg')\n",
    "plt.legend()\n",
    "plt.show()"
   ]
  },
  {
   "cell_type": "code",
   "execution_count": null,
   "metadata": {},
   "outputs": [],
   "source": [
    "locations = get_raster_data(site, counts=True)\n",
    "biomass = get_raster_data(site, var='biomass')\n",
    "\n",
    "sns.set_style(\"ticks\")\n",
    "fig = plt.figure(figsize=(16,16))\n",
    "plt.subplot(221)\n",
    "plt.imshow(initial_locations, cmap='Greens')\n",
    "plt.title(\"Initial Tree Canopy\")\n",
    "\n",
    "plt.subplot(222)\n",
    "plt.imshow(locations, cmap='Greens')\n",
    "plt.title(\"Current Tree Canopy\")\n",
    "\n",
    "plt.subplot(223)\n",
    "plt.title(\"Initial biomass concentrations\")\n",
    "plt.imshow(initial_biomass, cmap='Blues', vmin=0, vmax=biomass.max())\n",
    "plt.colorbar(label = 'Biomass - Kg')\n",
    "\n",
    "plt.subplot(224)\n",
    "plt.title(\"Current biomass concentrations\")\n",
    "plt.imshow(biomass, cmap='Blues')\n",
    "plt.colorbar(label = 'Biomass - Kg')\n",
    "plt.show()"
   ]
  }
 ],
 "metadata": {
  "kernelspec": {
   "display_name": "Python 3.9.12 ('SAF2')",
   "language": "python",
   "name": "python3"
  },
  "language_info": {
   "codemirror_mode": {
    "name": "ipython",
    "version": 3
   },
   "file_extension": ".py",
   "mimetype": "text/x-python",
   "name": "python",
   "nbconvert_exporter": "python",
   "pygments_lexer": "ipython3",
   "version": "3.9.12"
  },
  "orig_nbformat": 4,
  "vscode": {
   "interpreter": {
    "hash": "7a0b2806fe8897b4ed8201233331fc3a08620b9cffb6232c110f02a618d137bf"
   }
  }
 },
 "nbformat": 4,
 "nbformat_minor": 2
}
